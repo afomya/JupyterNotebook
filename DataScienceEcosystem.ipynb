{
 "cells": [
  {
   "cell_type": "markdown",
   "id": "ec2b37cf-5fdf-49ee-ad48-71a5b071ca44",
   "metadata": {},
   "source": [
    "# Data Science Tools and Ecosystems"
   ]
  },
  {
   "cell_type": "markdown",
   "id": "fa1fddf7-87ed-4ca8-9917-9b709e19ff14",
   "metadata": {},
   "source": [
    "In this notebook, Data Science Tools and Ecosystems are summarized."
   ]
  },
  {
   "cell_type": "markdown",
   "id": "f0f08d95-2623-4b53-8db2-fa8b51ee2a9c",
   "metadata": {},
   "source": [
    "**Objective:**\n",
    "- List popular languages for Data Science\n",
    "- List popular libraries for Data Science\n",
    "- Evaluating arithmetic expressions"
   ]
  },
  {
   "cell_type": "markdown",
   "id": "b00c1336-c8ba-4020-a453-c44cb5d5d2da",
   "metadata": {},
   "source": [
    "Some of the popular languages that Data Scientists are:\n",
    "1. Python\n",
    "2. R\n",
    "3. Java\n",
    "4. C++"
   ]
  },
  {
   "cell_type": "markdown",
   "id": "3b8a3a76-1219-43de-aa4a-4f34e44db510",
   "metadata": {},
   "source": [
    "Some of the commonly used libraries used by Data Scientists include:\n",
    "1. NumPy\n",
    "2. Pandas\n",
    "3. Seaborn\n",
    "4. TensorFlow"
   ]
  },
  {
   "cell_type": "markdown",
   "id": "313c8b94-8fd7-414a-b417-f3f77dfc5920",
   "metadata": {},
   "source": [
    "|Data Science Tools|\n",
    "|------------------|\n",
    "|Jupyter Notebook  |\n",
    "|R Studio          |\n",
    "|Visual Studio Code|"
   ]
  },
  {
   "cell_type": "markdown",
   "id": "c3a2c7a1-b8d2-4a3d-9909-4e97dad847d5",
   "metadata": {},
   "source": [
    "### Below are a few examples of evaluating arithmetic expressions in Python\n",
    "Addition\n",
    "result_add = 10 + 5\n",
    "print(\"Addition:\", result_add)  \n",
    "\n",
    "Subtraction\n",
    "result_sub = 20 - 8\n",
    "print(\"Subtraction:\", result_sub)  \n",
    "\n",
    "Multiplication\n",
    "result_mul = 7 * 4\n",
    "print(\"Multiplication:\", result_mul)  \n",
    "\n",
    "Division (float)\n",
    "result_div = 15 / 3\n",
    "print(\"Division:\", result_div)  \n"
   ]
  },
  {
   "cell_type": "code",
   "execution_count": 1,
   "id": "1fdc9bbd-402c-47a6-a1e3-c4ac3f00d38a",
   "metadata": {
    "tags": []
   },
   "outputs": [
    {
     "data": {
      "text/plain": [
       "17"
      ]
     },
     "execution_count": 1,
     "metadata": {},
     "output_type": "execute_result"
    }
   ],
   "source": [
    "# This is a simple arithmetic expression to multiply then add integers.\n",
    "(3*4)+5"
   ]
  },
  {
   "cell_type": "code",
   "execution_count": 2,
   "id": "ab7c2521-1c91-4fc4-a86e-069aa3b2399d",
   "metadata": {
    "tags": []
   },
   "outputs": [
    {
     "data": {
      "text/plain": [
       "3.3333333333333335"
      ]
     },
     "execution_count": 2,
     "metadata": {},
     "output_type": "execute_result"
    }
   ],
   "source": [
    "# This will convert 200 minutes to hours by diving by 60\n",
    "minutes = 200\n",
    "hours = minutes / 60\n",
    "hours"
   ]
  },
  {
   "cell_type": "markdown",
   "id": "3a81143f-8376-462f-a675-163b3bb2d367",
   "metadata": {},
   "source": [
    "## Author\n",
    "Afomya Alemayehu"
   ]
  },
  {
   "cell_type": "code",
   "execution_count": null,
   "id": "0ea8bebb-271b-4b2d-949b-e252da66bff0",
   "metadata": {},
   "outputs": [],
   "source": []
  }
 ],
 "metadata": {
  "kernelspec": {
   "display_name": "Python",
   "language": "python",
   "name": "conda-env-python-py"
  },
  "language_info": {
   "codemirror_mode": {
    "name": "ipython",
    "version": 3
   },
   "file_extension": ".py",
   "mimetype": "text/x-python",
   "name": "python",
   "nbconvert_exporter": "python",
   "pygments_lexer": "ipython3",
   "version": "3.7.12"
  }
 },
 "nbformat": 4,
 "nbformat_minor": 5
}
